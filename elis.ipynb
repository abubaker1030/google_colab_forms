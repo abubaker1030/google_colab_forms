{
  "nbformat": 4,
  "nbformat_minor": 0,
  "metadata": {
    "colab": {
      "provenance": []
    },
    "kernelspec": {
      "name": "python3",
      "display_name": "Python 3"
    },
    "language_info": {
      "name": "python"
    }
  },
  "cells": [
    {
      "cell_type": "code",
      "source": [
        "from csv import writer, reader\n",
        "import re\n",
        "path = '/content/drive/MyDrive/Student.csv'"
      ],
      "metadata": {
        "id": "puJjUtz0soZI"
      },
      "execution_count": 37,
      "outputs": []
    },
    {
      "cell_type": "code",
      "source": [
        "def checkEmail(email):\n",
        "    pat = r'\\b[A-Za-z0-9._%+-]+@[A-Za-z0-9.-]+\\.[A-Z|a-z]{2,}\\b'\n",
        "    if re.match(pat,email):\n",
        "        return True\n",
        "    else:\n",
        "        return False"
      ],
      "metadata": {
        "id": "HN6rJvinIvQ9"
      },
      "execution_count": 38,
      "outputs": []
    },
    {
      "cell_type": "code",
      "execution_count": 86,
      "metadata": {
        "colab": {
          "base_uri": "https://localhost:8080/"
        },
        "id": "aUTKYiOvk8ab",
        "outputId": "cc429ffe-0b8e-4b52-f458-e287d369e983"
      },
      "outputs": [
        {
          "output_type": "stream",
          "name": "stdout",
          "text": [
            "Student Data Added\n"
          ]
        }
      ],
      "source": [
        "#@title Default title text\n",
        "sdsuId = 3 #@param {type:\"number\"}\n",
        "first_name = \"Elis\" #@param {type:\"string\"}\n",
        "last_name = \"Del\" #@param {type:\"string\"}\n",
        "email = \"elis@gmail.com\" #@param {type:\"string\"}\n",
        "birth_date = \"2000-12-16\" #@param {type:\"date\"}\n",
        "class_of_graduation = 2023 #@param {type:\"slider\", min:2022, max:2030, step:1}\n",
        "degree = \"BS\" #@param [\"BS\", \"MS\", \"MBA\"]\n",
        "\n",
        "found = False\n",
        "with open(path, 'r') as file:\n",
        "    stuData = reader(file)\n",
        "    rowCount = 0\n",
        "    for row in stuData:\n",
        "      if rowCount!=0:\n",
        "        if (int(row[0]) == sdsuId):\n",
        "          found = True\n",
        "      rowCount+=1\n",
        "\n",
        "if found == True:\n",
        "  print(f'Stundet with id {sdsuId} is already exists')\n",
        "else:\n",
        "  if checkEmail(email) == False:\n",
        "    print('Invalid Email')\n",
        "  elif first_name == '':\n",
        "    print('First Name is required')\n",
        "  else:\n",
        "    data = [sdsuId,first_name,last_name,email,birth_date,class_of_graduation,degree]\n",
        "    with open(path, 'a') as file:\n",
        "      writerObj = writer(file)\n",
        "      writerObj.writerow(data)\n",
        "    print('Student Data Added')"
      ]
    },
    {
      "cell_type": "markdown",
      "source": [
        "Search By ID"
      ],
      "metadata": {
        "id": "TvPLyhH2KpdP"
      }
    },
    {
      "cell_type": "code",
      "source": [
        "#@title Default title text\n",
        "id = 2 #@param {type:\"number\"}\n",
        "if id<=0:\n",
        "  print('Student Id must be greater than 0')\n",
        "else:\n",
        "  with open(path, 'r') as file:\n",
        "    stuData = reader(file)\n",
        "    rowCount = 0\n",
        "    found = False\n",
        "    for row in stuData:\n",
        "      if rowCount!=0:\n",
        "        if (int(row[0]) == id):\n",
        "          found = True\n",
        "          print(f'Student with ID {id} is found')\n",
        "          print(row)\n",
        "      rowCount+=1\n",
        "    if found == False:\n",
        "      print(f'Student with ID {id} is not found')"
      ],
      "metadata": {
        "colab": {
          "base_uri": "https://localhost:8080/"
        },
        "id": "9r_--nnlJ6hx",
        "outputId": "bbfc680f-b80b-43af-cf39-d7c1d70ac125"
      },
      "execution_count": 88,
      "outputs": [
        {
          "output_type": "stream",
          "name": "stdout",
          "text": [
            "Student with ID 2 is found\n",
            "['2', 'Elis', 'Del', 'elis@gmail.com', '2000-12-16', '2023', 'BS']\n"
          ]
        }
      ]
    },
    {
      "cell_type": "markdown",
      "source": [
        "Search By Email"
      ],
      "metadata": {
        "id": "RKswuErCPExW"
      }
    },
    {
      "cell_type": "code",
      "source": [
        "#@title Default title text\n",
        "email = \"aasder@ntu.edu\" #@param {type:\"string\"}\n",
        "if email=='':\n",
        "  print('Enter a email')\n",
        "else:\n",
        "  with open(path, 'r') as file:\n",
        "    stuData = reader(file)\n",
        "    rowCount = 0\n",
        "    found = False\n",
        "    for row in stuData:\n",
        "      if rowCount!=0:\n",
        "        if (row[3] == email):\n",
        "          found = True\n",
        "          print(f'Student with email {email} is found')\n",
        "          print(row)\n",
        "      rowCount+=1\n",
        "    if found == False:\n",
        "      print(f'Student with email {email} is not found')"
      ],
      "metadata": {
        "colab": {
          "base_uri": "https://localhost:8080/"
        },
        "id": "oY-jEpxgPGV5",
        "outputId": "de1bda3c-2f17-4d3a-e156-e33774b0ea29"
      },
      "execution_count": 91,
      "outputs": [
        {
          "output_type": "stream",
          "name": "stdout",
          "text": [
            "Student with email aasder@ntu.edu is not found\n"
          ]
        }
      ]
    },
    {
      "cell_type": "markdown",
      "source": [
        "Search By Degree"
      ],
      "metadata": {
        "id": "v9UGsRXxP1BP"
      }
    },
    {
      "cell_type": "code",
      "source": [
        "#@title Default title text\n",
        "degree = \"BS\" #@param [\"BS\", \"MS\", \"MBA\"]\n",
        "if degree=='':\n",
        "  print('Enter a degree')\n",
        "else:\n",
        "  with open(path, 'r') as file:\n",
        "    stuData = reader(file)\n",
        "    rowCount = 0\n",
        "    found = False\n",
        "    for row in stuData:\n",
        "      if rowCount!=0:\n",
        "        if (row[6] == degree):\n",
        "          found = True\n",
        "          print(f'Student with degree {degree} is found')\n",
        "          print(row)\n",
        "      rowCount+=1\n",
        "    if found == False:\n",
        "      print(f'Student with degree {degree} is not found')"
      ],
      "metadata": {
        "colab": {
          "base_uri": "https://localhost:8080/"
        },
        "id": "hvV0N8BRP8E9",
        "outputId": "5eb64566-6dec-4417-bb98-64251f6bc796"
      },
      "execution_count": 93,
      "outputs": [
        {
          "output_type": "stream",
          "name": "stdout",
          "text": [
            "Student with degree BS is found\n",
            "['1', 'Abubaker', 'Ashiq', 'abubaker@ntu.edu', '2000-12-16', '2022', 'BS']\n",
            "Student with degree BS is found\n",
            "['2', 'Elis', 'Del', 'elis@gmail.com', '2000-12-16', '2023', 'BS']\n",
            "Student with degree BS is found\n",
            "['3', 'Elis', 'Del', 'elis@gmail.com', '2000-12-16', '2023', 'BS']\n"
          ]
        }
      ]
    },
    {
      "cell_type": "markdown",
      "source": [
        "Search By Graduation Year"
      ],
      "metadata": {
        "id": "YaO6BkIKQTMX"
      }
    },
    {
      "cell_type": "code",
      "source": [
        "#@title Default title text\n",
        "year = 2023 #@param {type:\"slider\", min:2022, max:2030, step:1}\n",
        "if year=='':\n",
        "  print('Enter a year')\n",
        "else:\n",
        "  with open(path, 'r') as file:\n",
        "    stuData = reader(file)\n",
        "    rowCount = 0\n",
        "    found = False\n",
        "    for row in stuData:\n",
        "      if rowCount!=0:\n",
        "        if (int(row[5]) == year):\n",
        "          found = True\n",
        "          print(f'Student with Gradution year {year} is found')\n",
        "          print(row)\n",
        "      rowCount+=1\n",
        "    if found == False:\n",
        "      print(f'Student with Gradution year {year} is not found')"
      ],
      "metadata": {
        "colab": {
          "base_uri": "https://localhost:8080/"
        },
        "id": "1L7sKuOxQYJ0",
        "outputId": "12dea545-7354-4b6e-b17c-fdb25af564ae"
      },
      "execution_count": 95,
      "outputs": [
        {
          "output_type": "stream",
          "name": "stdout",
          "text": [
            "Student with Gradution year 2023 is found\n",
            "['2', 'Elis', 'Del', 'elis@gmail.com', '2000-12-16', '2023', 'BS']\n",
            "Student with Gradution year 2023 is found\n",
            "['3', 'Elis', 'Del', 'elis@gmail.com', '2000-12-16', '2023', 'BS']\n"
          ]
        }
      ]
    }
  ]
}